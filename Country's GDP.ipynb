{
 "cells": [
  {
   "cell_type": "markdown",
   "id": "d2c0d00b",
   "metadata": {},
   "source": [
    "Temática: progresión del GDP per cápita en los países del mundo.\n",
    "\n",
    "Datos descargados de: https://databank.worldbank.org/\n",
    "\n",
    "Regiones en las que he dividido el conjunto de datos:  \n",
    "Asia y Oceanía  \n",
    "Europa   \n",
    "Africa  \n",
    "Norte América  \n",
    "Sudamérica  "
   ]
  },
  {
   "cell_type": "code",
   "execution_count": 1,
   "id": "70c6f512",
   "metadata": {},
   "outputs": [],
   "source": [
    "import pandas as pd"
   ]
  },
  {
   "cell_type": "markdown",
   "id": "4f28bc68",
   "metadata": {},
   "source": [
    "## Lectura de archivos"
   ]
  },
  {
   "cell_type": "code",
   "execution_count": 2,
   "id": "501b278a",
   "metadata": {
    "scrolled": true
   },
   "outputs": [],
   "source": [
    "# Leemos los archivos Excel y cargamos los datos en dataFrames:\n",
    "asia_oceania = pd.read_excel(\"asia_oceania.xlsx\")\n",
    "europe = pd.read_excel(\"europe.xlsx\")\n",
    "africa = pd.read_excel(\"africa.xlsx\")\n",
    "northamerica = pd.read_excel(\"northamerica.xlsx\")\n",
    "southamerica = pd.read_excel(\"southamerica.xlsx\")"
   ]
  },
  {
   "cell_type": "markdown",
   "id": "c1c30508",
   "metadata": {},
   "source": [
    "## Limpieza de datos"
   ]
  },
  {
   "cell_type": "code",
   "execution_count": 3,
   "id": "ded4c757",
   "metadata": {},
   "outputs": [],
   "source": [
    "# Eliminamos las dos primeras columnas:\n",
    "asia_oceania.drop(asia_oceania.columns[:2], axis=1, inplace=True)\n",
    "europe.drop(europe.columns[:2], axis=1, inplace=True)\n",
    "africa.drop(africa.columns[:2], axis=1, inplace=True)\n",
    "northamerica.drop(northamerica.columns[:2], axis=1, inplace=True)\n",
    "southamerica.drop(southamerica.columns[:2], axis=1, inplace=True)\n",
    "\n",
    "# Seleccionamos las columnas que contienen los datos por años:\n",
    "columnas_years = asia_oceania.columns[2:] # son iguales en todos los datasets\n",
    "\n",
    "# Convertimos las columnas seleccionadas a tipo numérico y redondeamos a dos decimales:\n",
    "asia_oceania[columnas_years] = asia_oceania[columnas_years].apply(pd.to_numeric, errors='coerce').round(2)\n",
    "europe[columnas_years] = europe[columnas_years].apply(pd.to_numeric, errors='coerce').round(2)\n",
    "africa[columnas_years] = africa[columnas_years].apply(pd.to_numeric, errors='coerce').round(2)\n",
    "northamerica[columnas_years] = northamerica[columnas_years].apply(pd.to_numeric, errors='coerce').round(2)\n",
    "southamerica[columnas_years] = southamerica[columnas_years].apply(pd.to_numeric, errors='coerce').round(2)\n",
    "\n",
    "# Limpiamos los nombres de las columnas para que sólo quede el número del año:\n",
    "asia_oceania.rename(columns={col: col.split()[0] for col in columnas_years}, inplace=True)\n",
    "europe.rename(columns={col: col.split()[0] for col in columnas_years}, inplace=True)\n",
    "africa.rename(columns={col: col.split()[0] for col in columnas_years}, inplace=True)\n",
    "northamerica.rename(columns={col: col.split()[0] for col in columnas_years}, inplace=True)\n",
    "southamerica.rename(columns={col: col.split()[0] for col in columnas_years}, inplace=True)\n",
    "\n",
    "# Añadimos el nombre de la región:\n",
    "asia_oceania.insert(1, \"Region\", \"Asia & Oceania\")\n",
    "europe.insert(1, \"Region\", \"Europe\")\n",
    "africa.insert(1, \"Region\", \"Africa\")\n",
    "northamerica.insert(1, \"Region\", \"North America\")\n",
    "southamerica.insert(1, \"Region\", \"South America\")\n",
    "\n",
    "def generate_image_url(country_code):\n",
    "    return f\"https://public.flourish.studio/country-flags/svg/{str(country_code)[:2].lower()}.svg\"\n",
    "\n",
    "# Creamos una nueva columna \"Image URL\" modificando el contenido de \"Country Code\": \n",
    "asia_oceania[\"Image URL\"] = asia_oceania[\"Country Code\"].apply(generate_image_url)\n",
    "asia_oceania = asia_oceania.drop(\"Country Code\", axis=1)\n",
    "europe[\"Image URL\"] = europe[\"Country Code\"].apply(generate_image_url)\n",
    "europe = europe.drop(\"Country Code\", axis=1)\n",
    "africa[\"Image URL\"] = africa[\"Country Code\"].apply(generate_image_url)\n",
    "africa = africa.drop(\"Country Code\", axis=1)\n",
    "northamerica[\"Image URL\"] = northamerica[\"Country Code\"].apply(generate_image_url)\n",
    "northamerica = northamerica.drop(\"Country Code\", axis=1)\n",
    "southamerica[\"Image URL\"] = southamerica[\"Country Code\"].apply(generate_image_url)\n",
    "southamerica = southamerica.drop(\"Country Code\", axis=1)\n",
    "\n",
    "# Extraemos la columna del último lugar:\n",
    "columna_extraida1 = asia_oceania.pop(\"Image URL\")\n",
    "columna_extraida2 = europe.pop(\"Image URL\")\n",
    "columna_extraida3 = africa.pop(\"Image URL\")\n",
    "columna_extraida4 = northamerica.pop(\"Image URL\")\n",
    "columna_extraida5 = southamerica.pop(\"Image URL\")\n",
    "\n",
    "# Insertamos la columna en la tercera posición:\n",
    "asia_oceania.insert(2, \"Image URL\", columna_extraida1)\n",
    "europe.insert(2, \"Image URL\", columna_extraida2)\n",
    "africa.insert(2, \"Image URL\", columna_extraida3)\n",
    "northamerica.insert(2, \"Image URL\", columna_extraida4)\n",
    "southamerica.insert(2, \"Image URL\", columna_extraida5)\n",
    "\n",
    "dataframes = [asia_oceania, europe, africa, northamerica, southamerica]\n",
    "# Realizamos el merge de los dataframes:\n",
    "paises = pd.concat(dataframes, ignore_index=True)\n",
    "\n",
    "# Pasamos el dataframe a Excel para importarlo en Flourish:\n",
    "paises.to_excel(\"paises_clean.xlsx\", index=False)"
   ]
  }
 ],
 "metadata": {
  "kernelspec": {
   "display_name": "Python 3 (ipykernel)",
   "language": "python",
   "name": "python3"
  },
  "language_info": {
   "codemirror_mode": {
    "name": "ipython",
    "version": 3
   },
   "file_extension": ".py",
   "mimetype": "text/x-python",
   "name": "python",
   "nbconvert_exporter": "python",
   "pygments_lexer": "ipython3",
   "version": "3.11.5"
  }
 },
 "nbformat": 4,
 "nbformat_minor": 5
}
